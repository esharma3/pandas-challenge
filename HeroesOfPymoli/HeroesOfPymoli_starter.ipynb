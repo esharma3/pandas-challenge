{
 "cells": [
  {
   "cell_type": "markdown",
   "metadata": {},
   "source": [
    "# Heroes Of Pymoli - Analysis\n",
    "\n",
    "<b> Problem Statment </b>\n",
    "\n",
    "Congratulations! After a lot of hard work in the data munging mines, you've landed a job as Lead Analyst for an independent gaming company. You've been assigned the task of analyzing the data for their most recent fantasy game Heroes of Pymoli.\n",
    "\n",
    "Like many others in its genre, the game is free-to-play, but players are encouraged to purchase optional items that enhance their playing experience. As a first task, the company would like you to generate a report that breaks down the game's purchasing data into meaningful insights.\n",
    "\n",
    "\n",
    "<b>Analysis Report (based on the analysis of purchase dataset provided)</b> \n",
    "\n",
    "1. Out of total players, 'Male' players form the majority of 84% whereas 'Female' players share a relatively small proportion of about 14%. 'Other/Non-Disclosed' gender holds less than 2% of total number of players.\n",
    "\n",
    "2. Majority of players fall between 20 - 24 years age group. Next highest is in age group 15 - 19.\n",
    "   The lowest number of players is in below 10 and above 40 age groups (About 2%).\n",
    "   \n",
    "3. The 20 - 24 age group also has the highest total purchase value of 1,114.06 dollars with an average purchase price per person as 4.32. Interestingly, the age    group with highest average purchase price per person of 4.76 is 35 - 39 with the total purchase price of 147.67 dollars.\n",
    "\n",
    "4. The top spender is Lisosia93 (total purchse count = 5, average purchase price = 3.79, total purchase price = 18.96).\n",
    "\n",
    "5. Most popular item is Item ID: 178, Item Name: Oathbreaker, Last Hope of the Breaking Storm (purchase count = 12, price = 4.23, total purchase price = 50.76)\n",
    "\n",
    "6. Most profitable item is also Item ID: 178, Item Name: Oathbreaker, Last Hope of the Breaking Storm (purchase count = 12, price = 4.23, total purchase price =    50.76) \n",
    "\n"
   ]
  },
  {
   "cell_type": "code",
   "execution_count": 1,
   "metadata": {},
   "outputs": [
    {
     "data": {
      "text/html": [
       "<div>\n",
       "<style scoped>\n",
       "    .dataframe tbody tr th:only-of-type {\n",
       "        vertical-align: middle;\n",
       "    }\n",
       "\n",
       "    .dataframe tbody tr th {\n",
       "        vertical-align: top;\n",
       "    }\n",
       "\n",
       "    .dataframe thead th {\n",
       "        text-align: right;\n",
       "    }\n",
       "</style>\n",
       "<table border=\"1\" class=\"dataframe\">\n",
       "  <thead>\n",
       "    <tr style=\"text-align: right;\">\n",
       "      <th></th>\n",
       "      <th>Purchase ID</th>\n",
       "      <th>SN</th>\n",
       "      <th>Age</th>\n",
       "      <th>Gender</th>\n",
       "      <th>Item ID</th>\n",
       "      <th>Item Name</th>\n",
       "      <th>Price</th>\n",
       "    </tr>\n",
       "  </thead>\n",
       "  <tbody>\n",
       "    <tr>\n",
       "      <th>0</th>\n",
       "      <td>0</td>\n",
       "      <td>Lisim78</td>\n",
       "      <td>20</td>\n",
       "      <td>Male</td>\n",
       "      <td>108</td>\n",
       "      <td>Extraction, Quickblade Of Trembling Hands</td>\n",
       "      <td>3.53</td>\n",
       "    </tr>\n",
       "    <tr>\n",
       "      <th>1</th>\n",
       "      <td>1</td>\n",
       "      <td>Lisovynya38</td>\n",
       "      <td>40</td>\n",
       "      <td>Male</td>\n",
       "      <td>143</td>\n",
       "      <td>Frenzied Scimitar</td>\n",
       "      <td>1.56</td>\n",
       "    </tr>\n",
       "    <tr>\n",
       "      <th>2</th>\n",
       "      <td>2</td>\n",
       "      <td>Ithergue48</td>\n",
       "      <td>24</td>\n",
       "      <td>Male</td>\n",
       "      <td>92</td>\n",
       "      <td>Final Critic</td>\n",
       "      <td>4.88</td>\n",
       "    </tr>\n",
       "  </tbody>\n",
       "</table>\n",
       "</div>"
      ],
      "text/plain": [
       "   Purchase ID           SN  Age Gender  Item ID  \\\n",
       "0            0      Lisim78   20   Male      108   \n",
       "1            1  Lisovynya38   40   Male      143   \n",
       "2            2   Ithergue48   24   Male       92   \n",
       "\n",
       "                                   Item Name  Price  \n",
       "0  Extraction, Quickblade Of Trembling Hands   3.53  \n",
       "1                          Frenzied Scimitar   1.56  \n",
       "2                               Final Critic   4.88  "
      ]
     },
     "execution_count": 1,
     "metadata": {},
     "output_type": "execute_result"
    }
   ],
   "source": [
    "# Dependencies and Setup\n",
    "import pandas as pd\n",
    "import os\n",
    "import matplotlib.pyplot as plt\n",
    "\n",
    "# File path\n",
    "file_to_load = os.path.join('Resources', 'purchase_data.csv')\n",
    "\n",
    "# Read Purchasing File and store into Pandas data frame\n",
    "purchase_data = pd.read_csv(file_to_load)\n",
    "purchase_data.head(3)"
   ]
  },
  {
   "cell_type": "markdown",
   "metadata": {},
   "source": [
    "## Player Count"
   ]
  },
  {
   "cell_type": "markdown",
   "metadata": {},
   "source": [
    "* Display the total number of players\n"
   ]
  },
  {
   "cell_type": "code",
   "execution_count": 2,
   "metadata": {},
   "outputs": [
    {
     "data": {
      "text/html": [
       "<div>\n",
       "<style scoped>\n",
       "    .dataframe tbody tr th:only-of-type {\n",
       "        vertical-align: middle;\n",
       "    }\n",
       "\n",
       "    .dataframe tbody tr th {\n",
       "        vertical-align: top;\n",
       "    }\n",
       "\n",
       "    .dataframe thead th {\n",
       "        text-align: right;\n",
       "    }\n",
       "</style>\n",
       "<table border=\"1\" class=\"dataframe\">\n",
       "  <thead>\n",
       "    <tr style=\"text-align: right;\">\n",
       "      <th></th>\n",
       "      <th>Total Players</th>\n",
       "    </tr>\n",
       "  </thead>\n",
       "  <tbody>\n",
       "    <tr>\n",
       "      <th>0</th>\n",
       "      <td>576</td>\n",
       "    </tr>\n",
       "  </tbody>\n",
       "</table>\n",
       "</div>"
      ],
      "text/plain": [
       "   Total Players\n",
       "0            576"
      ]
     },
     "execution_count": 2,
     "metadata": {},
     "output_type": "execute_result"
    }
   ],
   "source": [
    "# calculating a df that holds total number of unique players in purchase_data\n",
    "total_players = pd.DataFrame({purchase_data['SN'].nunique()}, columns=['Total Players'])\n",
    "total_players"
   ]
  },
  {
   "cell_type": "markdown",
   "metadata": {},
   "source": [
    "## Purchasing Analysis (Total)"
   ]
  },
  {
   "cell_type": "markdown",
   "metadata": {},
   "source": [
    "* Run basic calculations to obtain number of unique items, average price, etc.\n",
    "\n",
    "\n",
    "* Create a summary data frame to hold the results\n",
    "\n",
    "\n",
    "* Optional: give the displayed data cleaner formatting\n",
    "\n",
    "\n",
    "* Display the summary data frame\n"
   ]
  },
  {
   "cell_type": "markdown",
   "metadata": {},
   "source": [
    "##### Calculations for purchase analysis dataframe"
   ]
  },
  {
   "cell_type": "code",
   "execution_count": 3,
   "metadata": {},
   "outputs": [],
   "source": [
    "# calculating the number of unique items in total\n",
    "unique_items = purchase_data['Item ID'].nunique()\n",
    "\n",
    "# calculating the average purchase price  \n",
    "avg_price = f\"${purchase_data['Price'].mean():.2f}\"\n",
    "\n",
    "# calculating the number of purchases in total \n",
    "num_of_purchases = purchase_data['Purchase ID'].count()\n",
    "\n",
    "# calculating the total revenue (in total for purchase data)\n",
    "total_revenue = f\"${purchase_data['Price'].sum():,.2f}\""
   ]
  },
  {
   "cell_type": "markdown",
   "metadata": {},
   "source": [
    "\n",
    "##### Creating the summary dataframe for purchase analysis using the values calculated\n"
   ]
  },
  {
   "cell_type": "code",
   "execution_count": 4,
   "metadata": {},
   "outputs": [
    {
     "data": {
      "text/html": [
       "<div>\n",
       "<style scoped>\n",
       "    .dataframe tbody tr th:only-of-type {\n",
       "        vertical-align: middle;\n",
       "    }\n",
       "\n",
       "    .dataframe tbody tr th {\n",
       "        vertical-align: top;\n",
       "    }\n",
       "\n",
       "    .dataframe thead th {\n",
       "        text-align: right;\n",
       "    }\n",
       "</style>\n",
       "<table border=\"1\" class=\"dataframe\">\n",
       "  <thead>\n",
       "    <tr style=\"text-align: right;\">\n",
       "      <th></th>\n",
       "      <th>Number of Unique Items</th>\n",
       "      <th>Average Price</th>\n",
       "      <th>Number of Purchases</th>\n",
       "      <th>Total Revenue</th>\n",
       "    </tr>\n",
       "  </thead>\n",
       "  <tbody>\n",
       "    <tr>\n",
       "      <th>0</th>\n",
       "      <td>183</td>\n",
       "      <td>$3.05</td>\n",
       "      <td>780</td>\n",
       "      <td>$2,379.77</td>\n",
       "    </tr>\n",
       "  </tbody>\n",
       "</table>\n",
       "</div>"
      ],
      "text/plain": [
       "   Number of Unique Items Average Price  Number of Purchases Total Revenue\n",
       "0                     183         $3.05                  780     $2,379.77"
      ]
     },
     "execution_count": 4,
     "metadata": {},
     "output_type": "execute_result"
    }
   ],
   "source": [
    "purchase_analysis_df = pd.DataFrame({'Number of Unique Items': [unique_items], \n",
    "                           'Average Price': [avg_price], \n",
    "                           'Number of Purchases': [num_of_purchases], \n",
    "                           'Total Revenue': [total_revenue]})\n",
    "purchase_analysis_df"
   ]
  },
  {
   "cell_type": "markdown",
   "metadata": {},
   "source": [
    "## Gender Demographics"
   ]
  },
  {
   "cell_type": "markdown",
   "metadata": {},
   "source": [
    "* Percentage and Count of Male Players\n",
    "\n",
    "\n",
    "* Percentage and Count of Female Players\n",
    "\n",
    "\n",
    "* Percentage and Count of Other / Non-Disclosed\n",
    "\n",
    "\n"
   ]
  },
  {
   "cell_type": "markdown",
   "metadata": {},
   "source": [
    "##### Calculations for gender demographics dataframe"
   ]
  },
  {
   "cell_type": "code",
   "execution_count": 5,
   "metadata": {},
   "outputs": [],
   "source": [
    "# counting total number of players\n",
    "total_count = purchase_data['SN'].nunique()\n",
    "\n",
    "# counting total number and percent of male players\n",
    "male_count = purchase_data[purchase_data['Gender'] == 'Male']['SN'].nunique()\n",
    "male_percent = f\"{(male_count / total_count) * 100:.2f}%\"\n",
    "\n",
    "# counting total number and percent of female players\n",
    "female_count = purchase_data[purchase_data['Gender'] == 'Female']['SN'].nunique()\n",
    "female_percent = f\"{(female_count / total_count) * 100:.2f}%\"\n",
    "\n",
    "# counting total number and percent of other/non-disclosed players\n",
    "other_count = purchase_data[purchase_data['Gender'] == 'Other / Non-Disclosed']['SN'].nunique()\n",
    "other_percent = f\"{(other_count / total_count) * 100:.2f}%\""
   ]
  },
  {
   "cell_type": "markdown",
   "metadata": {},
   "source": [
    "##### Creating and formatting the gender demographics dataframe"
   ]
  },
  {
   "cell_type": "code",
   "execution_count": 6,
   "metadata": {},
   "outputs": [
    {
     "data": {
      "text/html": [
       "<div>\n",
       "<style scoped>\n",
       "    .dataframe tbody tr th:only-of-type {\n",
       "        vertical-align: middle;\n",
       "    }\n",
       "\n",
       "    .dataframe tbody tr th {\n",
       "        vertical-align: top;\n",
       "    }\n",
       "\n",
       "    .dataframe thead th {\n",
       "        text-align: right;\n",
       "    }\n",
       "</style>\n",
       "<table border=\"1\" class=\"dataframe\">\n",
       "  <thead>\n",
       "    <tr style=\"text-align: right;\">\n",
       "      <th></th>\n",
       "      <th>Total Count</th>\n",
       "      <th>Percentage of Players</th>\n",
       "    </tr>\n",
       "  </thead>\n",
       "  <tbody>\n",
       "    <tr>\n",
       "      <th>Male</th>\n",
       "      <td>484</td>\n",
       "      <td>84.03%</td>\n",
       "    </tr>\n",
       "    <tr>\n",
       "      <th>Female</th>\n",
       "      <td>81</td>\n",
       "      <td>14.06%</td>\n",
       "    </tr>\n",
       "    <tr>\n",
       "      <th>Other / Non-Disclosed</th>\n",
       "      <td>11</td>\n",
       "      <td>1.91%</td>\n",
       "    </tr>\n",
       "  </tbody>\n",
       "</table>\n",
       "</div>"
      ],
      "text/plain": [
       "                       Total Count Percentage of Players\n",
       "Male                           484                84.03%\n",
       "Female                          81                14.06%\n",
       "Other / Non-Disclosed           11                 1.91%"
      ]
     },
     "execution_count": 6,
     "metadata": {},
     "output_type": "execute_result"
    }
   ],
   "source": [
    "gender_demographics_df = pd.DataFrame({'Total Count': [male_count, female_count, other_count],\n",
    "                                       'Percentage of Players': [male_percent, female_percent, other_percent],\n",
    "                                       'Gender': ['Male', 'Female', 'Other / Non-Disclosed']})\\\n",
    "                                       .set_index('Gender')\n",
    "                                                               \n",
    "gender_demographics_df.index.name=None\n",
    "\n",
    "gender_demographics_df"
   ]
  },
  {
   "cell_type": "markdown",
   "metadata": {},
   "source": [
    "\n",
    "## Purchasing Analysis (Gender)"
   ]
  },
  {
   "cell_type": "markdown",
   "metadata": {},
   "source": [
    "* Run basic calculations to obtain purchase count, avg. purchase price, avg. purchase total per person etc. by gender\n",
    "\n",
    "\n",
    "\n",
    "\n",
    "* Create a summary data frame to hold the results\n",
    "\n",
    "\n",
    "* Optional: give the displayed data cleaner formatting\n",
    "\n",
    "\n",
    "* Display the summary data frame"
   ]
  },
  {
   "cell_type": "markdown",
   "metadata": {},
   "source": [
    "##### Calculations for gender based purchase analysis"
   ]
  },
  {
   "cell_type": "code",
   "execution_count": 7,
   "metadata": {},
   "outputs": [],
   "source": [
    "# grouping the purchase data based on the gender\n",
    "gender_data = purchase_data.groupby('Gender')\n",
    "\n",
    "# calculating purchase count based on gender\n",
    "purchase_count_by_gender = gender_data['Purchase ID'].count()\n",
    "\n",
    "# calculating total purchase price/value based on gender\n",
    "tot_purchase_price_by_gender = gender_data['Price'].sum()\n",
    "\n",
    "# calculating purchase count based on gender\n",
    "avg_purchase_price_by_gender = gender_data['Price'].mean()\n",
    "\n",
    "# calculating average total purchase per person based on gender\n",
    "gender_count = gender_data['SN'].nunique()\n",
    "avg_total_purchase_per_person_by_gender = tot_purchase_price_by_gender / gender_count\n"
   ]
  },
  {
   "cell_type": "markdown",
   "metadata": {},
   "source": [
    "\n",
    "##### Creating and formatting the gender purchase analysis dataframe\n"
   ]
  },
  {
   "cell_type": "code",
   "execution_count": 8,
   "metadata": {},
   "outputs": [
    {
     "data": {
      "text/html": [
       "<style  type=\"text/css\" >\n",
       "</style><table id=\"T_839c9c6e_1a06_11ea_94d7_380025f3998f\" ><thead>    <tr>        <th class=\"blank level0\" ></th>        <th class=\"col_heading level0 col0\" >Purchase Count</th>        <th class=\"col_heading level0 col1\" >Average Purchase Price</th>        <th class=\"col_heading level0 col2\" >Total Purchase Value</th>        <th class=\"col_heading level0 col3\" >Avg Total Purchase per Person</th>    </tr>    <tr>        <th class=\"index_name level0\" >Gender</th>        <th class=\"blank\" ></th>        <th class=\"blank\" ></th>        <th class=\"blank\" ></th>        <th class=\"blank\" ></th>    </tr></thead><tbody>\n",
       "                <tr>\n",
       "                        <th id=\"T_839c9c6e_1a06_11ea_94d7_380025f3998flevel0_row0\" class=\"row_heading level0 row0\" >Female</th>\n",
       "                        <td id=\"T_839c9c6e_1a06_11ea_94d7_380025f3998frow0_col0\" class=\"data row0 col0\" >113</td>\n",
       "                        <td id=\"T_839c9c6e_1a06_11ea_94d7_380025f3998frow0_col1\" class=\"data row0 col1\" >$3.20</td>\n",
       "                        <td id=\"T_839c9c6e_1a06_11ea_94d7_380025f3998frow0_col2\" class=\"data row0 col2\" >$361.94</td>\n",
       "                        <td id=\"T_839c9c6e_1a06_11ea_94d7_380025f3998frow0_col3\" class=\"data row0 col3\" >$4.47</td>\n",
       "            </tr>\n",
       "            <tr>\n",
       "                        <th id=\"T_839c9c6e_1a06_11ea_94d7_380025f3998flevel0_row1\" class=\"row_heading level0 row1\" >Male</th>\n",
       "                        <td id=\"T_839c9c6e_1a06_11ea_94d7_380025f3998frow1_col0\" class=\"data row1 col0\" >652</td>\n",
       "                        <td id=\"T_839c9c6e_1a06_11ea_94d7_380025f3998frow1_col1\" class=\"data row1 col1\" >$3.02</td>\n",
       "                        <td id=\"T_839c9c6e_1a06_11ea_94d7_380025f3998frow1_col2\" class=\"data row1 col2\" >$1,967.64</td>\n",
       "                        <td id=\"T_839c9c6e_1a06_11ea_94d7_380025f3998frow1_col3\" class=\"data row1 col3\" >$4.07</td>\n",
       "            </tr>\n",
       "            <tr>\n",
       "                        <th id=\"T_839c9c6e_1a06_11ea_94d7_380025f3998flevel0_row2\" class=\"row_heading level0 row2\" >Other / Non-Disclosed</th>\n",
       "                        <td id=\"T_839c9c6e_1a06_11ea_94d7_380025f3998frow2_col0\" class=\"data row2 col0\" >15</td>\n",
       "                        <td id=\"T_839c9c6e_1a06_11ea_94d7_380025f3998frow2_col1\" class=\"data row2 col1\" >$3.35</td>\n",
       "                        <td id=\"T_839c9c6e_1a06_11ea_94d7_380025f3998frow2_col2\" class=\"data row2 col2\" >$50.19</td>\n",
       "                        <td id=\"T_839c9c6e_1a06_11ea_94d7_380025f3998frow2_col3\" class=\"data row2 col3\" >$4.56</td>\n",
       "            </tr>\n",
       "    </tbody></table>"
      ],
      "text/plain": [
       "<pandas.io.formats.style.Styler at 0x1e44af2b808>"
      ]
     },
     "execution_count": 8,
     "metadata": {},
     "output_type": "execute_result"
    }
   ],
   "source": [
    "gender_purchasing_analysis_df = pd.DataFrame({'Purchase Count': purchase_count_by_gender,\n",
    "                                      'Average Purchase Price': avg_purchase_price_by_gender,\n",
    "                                      'Total Purchase Value': tot_purchase_price_by_gender,\n",
    "                                      'Avg Total Purchase per Person': avg_total_purchase_per_person_by_gender})\n",
    "\n",
    "gender_purchasing_analysis_df = gender_purchasing_analysis_df.style.format({'Average Purchase Price': \"${:,.2f}\".format, \n",
    "                                                                            'Total Purchase Value': \"${:,.2f}\".format,\n",
    "                                                                            'Avg Total Purchase per Person': \"${:,.2f}\".format\n",
    "                                                                           })\n",
    "                                                        \n",
    "\n",
    "gender_purchasing_analysis_df"
   ]
  },
  {
   "cell_type": "markdown",
   "metadata": {},
   "source": [
    "## Age Demographics"
   ]
  },
  {
   "cell_type": "markdown",
   "metadata": {},
   "source": [
    "* Establish bins for ages\n",
    "\n",
    "\n",
    "* Categorize the existing players using the age bins. Hint: use pd.cut()\n",
    "\n",
    "\n",
    "* Calculate the numbers and percentages by age group\n",
    "\n",
    "\n",
    "* Create a summary data frame to hold the results\n",
    "\n",
    "\n",
    "* Optional: round the percentage column to two decimal points\n",
    "\n",
    "\n",
    "* Display Age Demographics Table\n"
   ]
  },
  {
   "cell_type": "markdown",
   "metadata": {},
   "source": [
    "\n",
    "##### Using bins and doing calculations based on Age Demographics"
   ]
  },
  {
   "cell_type": "code",
   "execution_count": 9,
   "metadata": {},
   "outputs": [
    {
     "data": {
      "text/html": [
       "<div>\n",
       "<style scoped>\n",
       "    .dataframe tbody tr th:only-of-type {\n",
       "        vertical-align: middle;\n",
       "    }\n",
       "\n",
       "    .dataframe tbody tr th {\n",
       "        vertical-align: top;\n",
       "    }\n",
       "\n",
       "    .dataframe thead th {\n",
       "        text-align: right;\n",
       "    }\n",
       "</style>\n",
       "<table border=\"1\" class=\"dataframe\">\n",
       "  <thead>\n",
       "    <tr style=\"text-align: right;\">\n",
       "      <th></th>\n",
       "      <th>Purchase ID</th>\n",
       "      <th>SN</th>\n",
       "      <th>Age</th>\n",
       "      <th>Gender</th>\n",
       "      <th>Item ID</th>\n",
       "      <th>Item Name</th>\n",
       "      <th>Price</th>\n",
       "      <th>Age_Groups</th>\n",
       "    </tr>\n",
       "  </thead>\n",
       "  <tbody>\n",
       "    <tr>\n",
       "      <th>0</th>\n",
       "      <td>0</td>\n",
       "      <td>Lisim78</td>\n",
       "      <td>20</td>\n",
       "      <td>Male</td>\n",
       "      <td>108</td>\n",
       "      <td>Extraction, Quickblade Of Trembling Hands</td>\n",
       "      <td>3.53</td>\n",
       "      <td>20-24</td>\n",
       "    </tr>\n",
       "    <tr>\n",
       "      <th>1</th>\n",
       "      <td>1</td>\n",
       "      <td>Lisovynya38</td>\n",
       "      <td>40</td>\n",
       "      <td>Male</td>\n",
       "      <td>143</td>\n",
       "      <td>Frenzied Scimitar</td>\n",
       "      <td>1.56</td>\n",
       "      <td>40+</td>\n",
       "    </tr>\n",
       "    <tr>\n",
       "      <th>2</th>\n",
       "      <td>2</td>\n",
       "      <td>Ithergue48</td>\n",
       "      <td>24</td>\n",
       "      <td>Male</td>\n",
       "      <td>92</td>\n",
       "      <td>Final Critic</td>\n",
       "      <td>4.88</td>\n",
       "      <td>20-24</td>\n",
       "    </tr>\n",
       "  </tbody>\n",
       "</table>\n",
       "</div>"
      ],
      "text/plain": [
       "   Purchase ID           SN  Age Gender  Item ID  \\\n",
       "0            0      Lisim78   20   Male      108   \n",
       "1            1  Lisovynya38   40   Male      143   \n",
       "2            2   Ithergue48   24   Male       92   \n",
       "\n",
       "                                   Item Name  Price Age_Groups  \n",
       "0  Extraction, Quickblade Of Trembling Hands   3.53      20-24  \n",
       "1                          Frenzied Scimitar   1.56        40+  \n",
       "2                               Final Critic   4.88      20-24  "
      ]
     },
     "execution_count": 9,
     "metadata": {},
     "output_type": "execute_result"
    }
   ],
   "source": [
    "# creating bins and bin labels\n",
    "bins = [0, 10, 15, 20, 25, 30, 35, 40, 150]\n",
    "bin_names = ['<10', '10-14', '15-19', '20-24', '25-29', '30-34', '35-39', '40+']\n",
    "\n",
    "# creating new age_df using purchase_data df with an additional column for age groups (based on bins)\n",
    "Age_Groups = pd.cut(purchase_data[\"Age\"], bins, labels=bin_names, right=False)\n",
    "age_df = purchase_data.assign(Age_Groups=Age_Groups) \n",
    "age_df.head(3)"
   ]
  },
  {
   "cell_type": "code",
   "execution_count": 10,
   "metadata": {},
   "outputs": [],
   "source": [
    "# creating age_data that holds data grouped by age_groups columns\n",
    "age_data = age_df.groupby('Age_Groups')\n",
    "\n",
    "# calculating total count of players by age groups\n",
    "total_count_by_age = age_data['SN'].nunique()\n",
    "\n",
    "# calculating percent of players by age groups\n",
    "total_players = purchase_data['SN'].nunique()\n",
    "percent_of_players_by_age = total_count_by_age / total_players * 100\n",
    "percent_of_players_by_age = percent_of_players_by_age.apply(\"{:.2f}%\".format)"
   ]
  },
  {
   "cell_type": "markdown",
   "metadata": {},
   "source": [
    "##### Creating the age demographics dataframe based on the values calculated"
   ]
  },
  {
   "cell_type": "code",
   "execution_count": 11,
   "metadata": {},
   "outputs": [
    {
     "data": {
      "text/html": [
       "<div>\n",
       "<style scoped>\n",
       "    .dataframe tbody tr th:only-of-type {\n",
       "        vertical-align: middle;\n",
       "    }\n",
       "\n",
       "    .dataframe tbody tr th {\n",
       "        vertical-align: top;\n",
       "    }\n",
       "\n",
       "    .dataframe thead th {\n",
       "        text-align: right;\n",
       "    }\n",
       "</style>\n",
       "<table border=\"1\" class=\"dataframe\">\n",
       "  <thead>\n",
       "    <tr style=\"text-align: right;\">\n",
       "      <th></th>\n",
       "      <th>Total Count</th>\n",
       "      <th>Percentage of Players</th>\n",
       "    </tr>\n",
       "    <tr>\n",
       "      <th>Age_Groups</th>\n",
       "      <th></th>\n",
       "      <th></th>\n",
       "    </tr>\n",
       "  </thead>\n",
       "  <tbody>\n",
       "    <tr>\n",
       "      <th>&lt;10</th>\n",
       "      <td>17</td>\n",
       "      <td>2.95%</td>\n",
       "    </tr>\n",
       "    <tr>\n",
       "      <th>10-14</th>\n",
       "      <td>22</td>\n",
       "      <td>3.82%</td>\n",
       "    </tr>\n",
       "    <tr>\n",
       "      <th>15-19</th>\n",
       "      <td>107</td>\n",
       "      <td>18.58%</td>\n",
       "    </tr>\n",
       "    <tr>\n",
       "      <th>20-24</th>\n",
       "      <td>258</td>\n",
       "      <td>44.79%</td>\n",
       "    </tr>\n",
       "    <tr>\n",
       "      <th>25-29</th>\n",
       "      <td>77</td>\n",
       "      <td>13.37%</td>\n",
       "    </tr>\n",
       "    <tr>\n",
       "      <th>30-34</th>\n",
       "      <td>52</td>\n",
       "      <td>9.03%</td>\n",
       "    </tr>\n",
       "    <tr>\n",
       "      <th>35-39</th>\n",
       "      <td>31</td>\n",
       "      <td>5.38%</td>\n",
       "    </tr>\n",
       "    <tr>\n",
       "      <th>40+</th>\n",
       "      <td>12</td>\n",
       "      <td>2.08%</td>\n",
       "    </tr>\n",
       "  </tbody>\n",
       "</table>\n",
       "</div>"
      ],
      "text/plain": [
       "            Total Count Percentage of Players\n",
       "Age_Groups                                   \n",
       "<10                  17                 2.95%\n",
       "10-14                22                 3.82%\n",
       "15-19               107                18.58%\n",
       "20-24               258                44.79%\n",
       "25-29                77                13.37%\n",
       "30-34                52                 9.03%\n",
       "35-39                31                 5.38%\n",
       "40+                  12                 2.08%"
      ]
     },
     "execution_count": 11,
     "metadata": {},
     "output_type": "execute_result"
    }
   ],
   "source": [
    "age_demographics_df = pd.DataFrame({'Total Count': total_count_by_age,\n",
    "                                    'Percentage of Players':percent_of_players_by_age\n",
    "                                    })\n",
    "age_demographics_df"
   ]
  },
  {
   "cell_type": "markdown",
   "metadata": {},
   "source": [
    "## Purchasing Analysis (Age)"
   ]
  },
  {
   "cell_type": "markdown",
   "metadata": {},
   "source": [
    "* Bin the purchase_data data frame by age\n",
    "\n",
    "\n",
    "* Run basic calculations to obtain purchase count, avg. purchase price, avg. purchase total per person etc. in the table below\n",
    "\n",
    "\n",
    "* Create a summary data frame to hold the results\n",
    "\n",
    "\n",
    "* Optional: give the displayed data cleaner formatting\n",
    "\n",
    "\n",
    "* Display the summary data frame"
   ]
  },
  {
   "cell_type": "markdown",
   "metadata": {},
   "source": [
    "\n",
    "##### Calculations for purchasing analysis by age\n"
   ]
  },
  {
   "cell_type": "code",
   "execution_count": 12,
   "metadata": {},
   "outputs": [],
   "source": [
    "# calculating purchase count by age \n",
    "purchase_count_by_age = age_data['Purchase ID'].count()\n",
    "\n",
    "# calculating purchase price by age\n",
    "purchase_price_by_age = age_data['Price'].sum()\n",
    "\n",
    "# calculating average purchase price by age\n",
    "avg_purchase_price_by_age = age_data['Price'].mean()\n",
    "\n",
    "# calculating average total purchaseprice per person by age\n",
    "avg_total_purchase_per_person = purchase_price_by_age / age_data['SN'].nunique()\n"
   ]
  },
  {
   "cell_type": "markdown",
   "metadata": {},
   "source": [
    "##### Creating & formatting the purchase_analysis_by_age df based on the values calculated"
   ]
  },
  {
   "cell_type": "code",
   "execution_count": 13,
   "metadata": {},
   "outputs": [
    {
     "data": {
      "text/html": [
       "<div>\n",
       "<style scoped>\n",
       "    .dataframe tbody tr th:only-of-type {\n",
       "        vertical-align: middle;\n",
       "    }\n",
       "\n",
       "    .dataframe tbody tr th {\n",
       "        vertical-align: top;\n",
       "    }\n",
       "\n",
       "    .dataframe thead th {\n",
       "        text-align: right;\n",
       "    }\n",
       "</style>\n",
       "<table border=\"1\" class=\"dataframe\">\n",
       "  <thead>\n",
       "    <tr style=\"text-align: right;\">\n",
       "      <th></th>\n",
       "      <th>Purchase Count</th>\n",
       "      <th>Average Purchase Price</th>\n",
       "      <th>Total Purchase Value</th>\n",
       "      <th>Average Purchase Total per Person</th>\n",
       "    </tr>\n",
       "    <tr>\n",
       "      <th>Age_Groups</th>\n",
       "      <th></th>\n",
       "      <th></th>\n",
       "      <th></th>\n",
       "      <th></th>\n",
       "    </tr>\n",
       "  </thead>\n",
       "  <tbody>\n",
       "    <tr>\n",
       "      <th>&lt;10</th>\n",
       "      <td>23</td>\n",
       "      <td>$3.35</td>\n",
       "      <td>$77.13</td>\n",
       "      <td>$4.54</td>\n",
       "    </tr>\n",
       "    <tr>\n",
       "      <th>10-14</th>\n",
       "      <td>28</td>\n",
       "      <td>$2.96</td>\n",
       "      <td>$82.78</td>\n",
       "      <td>$3.76</td>\n",
       "    </tr>\n",
       "    <tr>\n",
       "      <th>15-19</th>\n",
       "      <td>136</td>\n",
       "      <td>$3.04</td>\n",
       "      <td>$412.89</td>\n",
       "      <td>$3.86</td>\n",
       "    </tr>\n",
       "    <tr>\n",
       "      <th>20-24</th>\n",
       "      <td>365</td>\n",
       "      <td>$3.05</td>\n",
       "      <td>$1,114.06</td>\n",
       "      <td>$4.32</td>\n",
       "    </tr>\n",
       "    <tr>\n",
       "      <th>25-29</th>\n",
       "      <td>101</td>\n",
       "      <td>$2.90</td>\n",
       "      <td>$293.00</td>\n",
       "      <td>$3.81</td>\n",
       "    </tr>\n",
       "    <tr>\n",
       "      <th>30-34</th>\n",
       "      <td>73</td>\n",
       "      <td>$2.93</td>\n",
       "      <td>$214.00</td>\n",
       "      <td>$4.12</td>\n",
       "    </tr>\n",
       "    <tr>\n",
       "      <th>35-39</th>\n",
       "      <td>41</td>\n",
       "      <td>$3.60</td>\n",
       "      <td>$147.67</td>\n",
       "      <td>$4.76</td>\n",
       "    </tr>\n",
       "    <tr>\n",
       "      <th>40+</th>\n",
       "      <td>13</td>\n",
       "      <td>$2.94</td>\n",
       "      <td>$38.24</td>\n",
       "      <td>$3.19</td>\n",
       "    </tr>\n",
       "  </tbody>\n",
       "</table>\n",
       "</div>"
      ],
      "text/plain": [
       "           Purchase Count Average Purchase Price Total Purchase Value  \\\n",
       "Age_Groups                                                              \n",
       "<10                    23                  $3.35               $77.13   \n",
       "10-14                  28                  $2.96               $82.78   \n",
       "15-19                 136                  $3.04              $412.89   \n",
       "20-24                 365                  $3.05            $1,114.06   \n",
       "25-29                 101                  $2.90              $293.00   \n",
       "30-34                  73                  $2.93              $214.00   \n",
       "35-39                  41                  $3.60              $147.67   \n",
       "40+                    13                  $2.94               $38.24   \n",
       "\n",
       "           Average Purchase Total per Person  \n",
       "Age_Groups                                    \n",
       "<10                                    $4.54  \n",
       "10-14                                  $3.76  \n",
       "15-19                                  $3.86  \n",
       "20-24                                  $4.32  \n",
       "25-29                                  $3.81  \n",
       "30-34                                  $4.12  \n",
       "35-39                                  $4.76  \n",
       "40+                                    $3.19  "
      ]
     },
     "execution_count": 13,
     "metadata": {},
     "output_type": "execute_result"
    }
   ],
   "source": [
    "purchasing_analysis_age_df = pd.DataFrame({\"Purchase Count\": purchase_count_by_age,\n",
    "                                           \"Average Purchase Price\": avg_purchase_price_by_age,\n",
    "                                           \"Total Purchase Value\":purchase_price_by_age,\n",
    "                                           \"Average Purchase Total per Person\": avg_total_purchase_per_person})\n",
    "\n",
    "purchasing_analysis_age_df[\"Average Purchase Price\"] = purchasing_analysis_age_df[\"Average Purchase Price\"].map(\"${:,.2f}\".format)\n",
    "purchasing_analysis_age_df[\"Total Purchase Value\"] = purchasing_analysis_age_df[\"Total Purchase Value\"].map(\"${:,.2f}\".format)\n",
    "purchasing_analysis_age_df[\"Purchase Count\"] = purchasing_analysis_age_df[\"Purchase Count\"].map(\"{:,}\".format)\n",
    "purchasing_analysis_age_df[\"Average Purchase Total per Person\"] = purchasing_analysis_age_df[\"Average Purchase Total per Person\"].map(\"${:,.2f}\".format)\n",
    "purchasing_analysis_age_df = purchasing_analysis_age_df.loc[:, [\"Purchase Count\", \"Average Purchase Price\", \"Total Purchase Value\", \"Average Purchase Total per Person\"]]\n",
    "\n",
    "\n",
    "purchasing_analysis_age_df "
   ]
  },
  {
   "cell_type": "markdown",
   "metadata": {},
   "source": [
    "## Top Spenders"
   ]
  },
  {
   "cell_type": "markdown",
   "metadata": {},
   "source": [
    "* Run basic calculations to obtain the results in the table below\n",
    "\n",
    "\n",
    "* Create a summary data frame to hold the results\n",
    "\n",
    "\n",
    "* Sort the total purchase value column in descending order\n",
    "\n",
    "\n",
    "* Optional: give the displayed data cleaner formatting\n",
    "\n",
    "\n",
    "* Display a preview of the summary data frame\n",
    "\n"
   ]
  },
  {
   "cell_type": "markdown",
   "metadata": {},
   "source": [
    "##### Calculations for top spenders"
   ]
  },
  {
   "cell_type": "code",
   "execution_count": 14,
   "metadata": {},
   "outputs": [],
   "source": [
    "# calculating purchase count by spenders\n",
    "purchase_count_by_spender = purchase_data.groupby('SN')['Purchase ID'].count()\n",
    "\n",
    "# calculating total purchase price/value by spenders\n",
    "total_purchase_value_spender = purchase_data.groupby('SN')['Price'].sum()\n",
    "\n",
    "# calculating average purchase price by spenders\n",
    "avg_purchase_price_spender = purchase_data.groupby('SN')['Price'].mean()"
   ]
  },
  {
   "cell_type": "markdown",
   "metadata": {},
   "source": [
    "##### Creating & formatting the top_spender_df based on the values calculated"
   ]
  },
  {
   "cell_type": "code",
   "execution_count": 15,
   "metadata": {},
   "outputs": [
    {
     "data": {
      "text/html": [
       "<style  type=\"text/css\" >\n",
       "</style><table id=\"T_894e5ba6_1a06_11ea_b8ac_380025f3998f\" ><thead>    <tr>        <th class=\"blank level0\" ></th>        <th class=\"col_heading level0 col0\" >Purchase Count</th>        <th class=\"col_heading level0 col1\" >Average Purchase Price</th>        <th class=\"col_heading level0 col2\" >Total Purchase Value</th>    </tr>    <tr>        <th class=\"index_name level0\" >SN</th>        <th class=\"blank\" ></th>        <th class=\"blank\" ></th>        <th class=\"blank\" ></th>    </tr></thead><tbody>\n",
       "                <tr>\n",
       "                        <th id=\"T_894e5ba6_1a06_11ea_b8ac_380025f3998flevel0_row0\" class=\"row_heading level0 row0\" >Lisosia93</th>\n",
       "                        <td id=\"T_894e5ba6_1a06_11ea_b8ac_380025f3998frow0_col0\" class=\"data row0 col0\" >5</td>\n",
       "                        <td id=\"T_894e5ba6_1a06_11ea_b8ac_380025f3998frow0_col1\" class=\"data row0 col1\" >$3.79</td>\n",
       "                        <td id=\"T_894e5ba6_1a06_11ea_b8ac_380025f3998frow0_col2\" class=\"data row0 col2\" >$18.96</td>\n",
       "            </tr>\n",
       "            <tr>\n",
       "                        <th id=\"T_894e5ba6_1a06_11ea_b8ac_380025f3998flevel0_row1\" class=\"row_heading level0 row1\" >Idastidru52</th>\n",
       "                        <td id=\"T_894e5ba6_1a06_11ea_b8ac_380025f3998frow1_col0\" class=\"data row1 col0\" >4</td>\n",
       "                        <td id=\"T_894e5ba6_1a06_11ea_b8ac_380025f3998frow1_col1\" class=\"data row1 col1\" >$3.86</td>\n",
       "                        <td id=\"T_894e5ba6_1a06_11ea_b8ac_380025f3998frow1_col2\" class=\"data row1 col2\" >$15.45</td>\n",
       "            </tr>\n",
       "            <tr>\n",
       "                        <th id=\"T_894e5ba6_1a06_11ea_b8ac_380025f3998flevel0_row2\" class=\"row_heading level0 row2\" >Chamjask73</th>\n",
       "                        <td id=\"T_894e5ba6_1a06_11ea_b8ac_380025f3998frow2_col0\" class=\"data row2 col0\" >3</td>\n",
       "                        <td id=\"T_894e5ba6_1a06_11ea_b8ac_380025f3998frow2_col1\" class=\"data row2 col1\" >$4.61</td>\n",
       "                        <td id=\"T_894e5ba6_1a06_11ea_b8ac_380025f3998frow2_col2\" class=\"data row2 col2\" >$13.83</td>\n",
       "            </tr>\n",
       "            <tr>\n",
       "                        <th id=\"T_894e5ba6_1a06_11ea_b8ac_380025f3998flevel0_row3\" class=\"row_heading level0 row3\" >Iral74</th>\n",
       "                        <td id=\"T_894e5ba6_1a06_11ea_b8ac_380025f3998frow3_col0\" class=\"data row3 col0\" >4</td>\n",
       "                        <td id=\"T_894e5ba6_1a06_11ea_b8ac_380025f3998frow3_col1\" class=\"data row3 col1\" >$3.40</td>\n",
       "                        <td id=\"T_894e5ba6_1a06_11ea_b8ac_380025f3998frow3_col2\" class=\"data row3 col2\" >$13.62</td>\n",
       "            </tr>\n",
       "            <tr>\n",
       "                        <th id=\"T_894e5ba6_1a06_11ea_b8ac_380025f3998flevel0_row4\" class=\"row_heading level0 row4\" >Iskadarya95</th>\n",
       "                        <td id=\"T_894e5ba6_1a06_11ea_b8ac_380025f3998frow4_col0\" class=\"data row4 col0\" >3</td>\n",
       "                        <td id=\"T_894e5ba6_1a06_11ea_b8ac_380025f3998frow4_col1\" class=\"data row4 col1\" >$4.37</td>\n",
       "                        <td id=\"T_894e5ba6_1a06_11ea_b8ac_380025f3998frow4_col2\" class=\"data row4 col2\" >$13.10</td>\n",
       "            </tr>\n",
       "    </tbody></table>"
      ],
      "text/plain": [
       "<pandas.io.formats.style.Styler at 0x1e44b2ea0c8>"
      ]
     },
     "execution_count": 15,
     "metadata": {},
     "output_type": "execute_result"
    }
   ],
   "source": [
    "top_spender_df = pd.DataFrame({'Purchase Count': purchase_count_by_spender,\n",
    "                              'Average Purchase Price': avg_purchase_price_spender,\n",
    "                              'Total Purchase Value': total_purchase_value_spender,\n",
    "                              }).sort_values('Total Purchase Value', ascending=False).head()\n",
    "\n",
    "top_spender_df = top_spender_df.style.format({'Average Purchase Price': \"${:,.2f}\".format, \n",
    "                                              'Total Purchase Value': \"${:,.2f}\".format,\n",
    "                                              })\n",
    "\n",
    "top_spender_df"
   ]
  },
  {
   "cell_type": "markdown",
   "metadata": {},
   "source": [
    "## Most Popular Items"
   ]
  },
  {
   "cell_type": "markdown",
   "metadata": {},
   "source": [
    "* Retrieve the Item ID, Item Name, and Item Price columns\n",
    "\n",
    "\n",
    "* Group by Item ID and Item Name. Perform calculations to obtain purchase count, item price, and total purchase value\n",
    "\n",
    "\n",
    "* Create a summary data frame to hold the results\n",
    "\n",
    "\n",
    "* Sort the purchase count column in descending order\n",
    "\n",
    "\n",
    "* Optional: give the displayed data cleaner formatting\n",
    "\n",
    "\n",
    "* Display a preview of the summary data frame\n",
    "\n"
   ]
  },
  {
   "cell_type": "markdown",
   "metadata": {},
   "source": [
    "##### Calculations for most popular items"
   ]
  },
  {
   "cell_type": "code",
   "execution_count": 16,
   "metadata": {},
   "outputs": [
    {
     "data": {
      "text/html": [
       "<div>\n",
       "<style scoped>\n",
       "    .dataframe tbody tr th:only-of-type {\n",
       "        vertical-align: middle;\n",
       "    }\n",
       "\n",
       "    .dataframe tbody tr th {\n",
       "        vertical-align: top;\n",
       "    }\n",
       "\n",
       "    .dataframe thead th {\n",
       "        text-align: right;\n",
       "    }\n",
       "</style>\n",
       "<table border=\"1\" class=\"dataframe\">\n",
       "  <thead>\n",
       "    <tr style=\"text-align: right;\">\n",
       "      <th></th>\n",
       "      <th>Item ID</th>\n",
       "      <th>Item Name</th>\n",
       "      <th>Price</th>\n",
       "    </tr>\n",
       "  </thead>\n",
       "  <tbody>\n",
       "    <tr>\n",
       "      <th>0</th>\n",
       "      <td>108</td>\n",
       "      <td>Extraction, Quickblade Of Trembling Hands</td>\n",
       "      <td>3.53</td>\n",
       "    </tr>\n",
       "    <tr>\n",
       "      <th>1</th>\n",
       "      <td>143</td>\n",
       "      <td>Frenzied Scimitar</td>\n",
       "      <td>1.56</td>\n",
       "    </tr>\n",
       "    <tr>\n",
       "      <th>2</th>\n",
       "      <td>92</td>\n",
       "      <td>Final Critic</td>\n",
       "      <td>4.88</td>\n",
       "    </tr>\n",
       "    <tr>\n",
       "      <th>3</th>\n",
       "      <td>100</td>\n",
       "      <td>Blindscythe</td>\n",
       "      <td>3.27</td>\n",
       "    </tr>\n",
       "    <tr>\n",
       "      <th>4</th>\n",
       "      <td>131</td>\n",
       "      <td>Fury</td>\n",
       "      <td>1.44</td>\n",
       "    </tr>\n",
       "  </tbody>\n",
       "</table>\n",
       "</div>"
      ],
      "text/plain": [
       "   Item ID                                  Item Name  Price\n",
       "0      108  Extraction, Quickblade Of Trembling Hands   3.53\n",
       "1      143                          Frenzied Scimitar   1.56\n",
       "2       92                               Final Critic   4.88\n",
       "3      100                                Blindscythe   3.27\n",
       "4      131                                       Fury   1.44"
      ]
     },
     "execution_count": 16,
     "metadata": {},
     "output_type": "execute_result"
    }
   ],
   "source": [
    "# creating items dataframe using purchase_data df\n",
    "item_df = pd.DataFrame(purchase_data[['Item ID', 'Item Name', 'Price']])\n",
    "item_df.head()"
   ]
  },
  {
   "cell_type": "code",
   "execution_count": 17,
   "metadata": {},
   "outputs": [],
   "source": [
    "# creating item_data by grouping item id and item name for further calculations\n",
    "item_data = item_df.groupby(['Item ID', 'Item Name'])\n",
    "\n",
    "# calculating total purchase price based on items\n",
    "total_purchase_value_item = item_data['Price'].sum()\n",
    "\n",
    "# calculating purchase count based on items\n",
    "purchase_count_by_item = item_data['Price'].count()\n",
    "\n",
    "# calculating item price for unique items\n",
    "item_price = total_purchase_value_item / purchase_count_by_item"
   ]
  },
  {
   "cell_type": "markdown",
   "metadata": {},
   "source": [
    "##### Creating & formatting the most_popular_items_df based on the values calculated"
   ]
  },
  {
   "cell_type": "code",
   "execution_count": 18,
   "metadata": {},
   "outputs": [
    {
     "data": {
      "text/html": [
       "<style  type=\"text/css\" >\n",
       "</style><table id=\"T_8b72c278_1a06_11ea_8fdf_380025f3998f\" ><thead>    <tr>        <th class=\"blank\" ></th>        <th class=\"blank level0\" ></th>        <th class=\"col_heading level0 col0\" >Purchase Count</th>        <th class=\"col_heading level0 col1\" >Item Price</th>        <th class=\"col_heading level0 col2\" >Total Purchase Value</th>    </tr>    <tr>        <th class=\"index_name level0\" >Item ID</th>        <th class=\"index_name level1\" >Item Name</th>        <th class=\"blank\" ></th>        <th class=\"blank\" ></th>        <th class=\"blank\" ></th>    </tr></thead><tbody>\n",
       "                <tr>\n",
       "                        <th id=\"T_8b72c278_1a06_11ea_8fdf_380025f3998flevel0_row0\" class=\"row_heading level0 row0\" >178</th>\n",
       "                        <th id=\"T_8b72c278_1a06_11ea_8fdf_380025f3998flevel1_row0\" class=\"row_heading level1 row0\" >Oathbreaker, Last Hope of the Breaking Storm</th>\n",
       "                        <td id=\"T_8b72c278_1a06_11ea_8fdf_380025f3998frow0_col0\" class=\"data row0 col0\" >12</td>\n",
       "                        <td id=\"T_8b72c278_1a06_11ea_8fdf_380025f3998frow0_col1\" class=\"data row0 col1\" >$4.23</td>\n",
       "                        <td id=\"T_8b72c278_1a06_11ea_8fdf_380025f3998frow0_col2\" class=\"data row0 col2\" >$50.76</td>\n",
       "            </tr>\n",
       "            <tr>\n",
       "                        <th id=\"T_8b72c278_1a06_11ea_8fdf_380025f3998flevel0_row1\" class=\"row_heading level0 row1\" >145</th>\n",
       "                        <th id=\"T_8b72c278_1a06_11ea_8fdf_380025f3998flevel1_row1\" class=\"row_heading level1 row1\" >Fiery Glass Crusader</th>\n",
       "                        <td id=\"T_8b72c278_1a06_11ea_8fdf_380025f3998frow1_col0\" class=\"data row1 col0\" >9</td>\n",
       "                        <td id=\"T_8b72c278_1a06_11ea_8fdf_380025f3998frow1_col1\" class=\"data row1 col1\" >$4.58</td>\n",
       "                        <td id=\"T_8b72c278_1a06_11ea_8fdf_380025f3998frow1_col2\" class=\"data row1 col2\" >$41.22</td>\n",
       "            </tr>\n",
       "            <tr>\n",
       "                        <th id=\"T_8b72c278_1a06_11ea_8fdf_380025f3998flevel0_row2\" class=\"row_heading level0 row2\" >108</th>\n",
       "                        <th id=\"T_8b72c278_1a06_11ea_8fdf_380025f3998flevel1_row2\" class=\"row_heading level1 row2\" >Extraction, Quickblade Of Trembling Hands</th>\n",
       "                        <td id=\"T_8b72c278_1a06_11ea_8fdf_380025f3998frow2_col0\" class=\"data row2 col0\" >9</td>\n",
       "                        <td id=\"T_8b72c278_1a06_11ea_8fdf_380025f3998frow2_col1\" class=\"data row2 col1\" >$3.53</td>\n",
       "                        <td id=\"T_8b72c278_1a06_11ea_8fdf_380025f3998frow2_col2\" class=\"data row2 col2\" >$31.77</td>\n",
       "            </tr>\n",
       "            <tr>\n",
       "                        <th id=\"T_8b72c278_1a06_11ea_8fdf_380025f3998flevel0_row3\" class=\"row_heading level0 row3\" >82</th>\n",
       "                        <th id=\"T_8b72c278_1a06_11ea_8fdf_380025f3998flevel1_row3\" class=\"row_heading level1 row3\" >Nirvana</th>\n",
       "                        <td id=\"T_8b72c278_1a06_11ea_8fdf_380025f3998frow3_col0\" class=\"data row3 col0\" >9</td>\n",
       "                        <td id=\"T_8b72c278_1a06_11ea_8fdf_380025f3998frow3_col1\" class=\"data row3 col1\" >$4.90</td>\n",
       "                        <td id=\"T_8b72c278_1a06_11ea_8fdf_380025f3998frow3_col2\" class=\"data row3 col2\" >$44.10</td>\n",
       "            </tr>\n",
       "            <tr>\n",
       "                        <th id=\"T_8b72c278_1a06_11ea_8fdf_380025f3998flevel0_row4\" class=\"row_heading level0 row4\" >19</th>\n",
       "                        <th id=\"T_8b72c278_1a06_11ea_8fdf_380025f3998flevel1_row4\" class=\"row_heading level1 row4\" >Pursuit, Cudgel of Necromancy</th>\n",
       "                        <td id=\"T_8b72c278_1a06_11ea_8fdf_380025f3998frow4_col0\" class=\"data row4 col0\" >8</td>\n",
       "                        <td id=\"T_8b72c278_1a06_11ea_8fdf_380025f3998frow4_col1\" class=\"data row4 col1\" >$1.02</td>\n",
       "                        <td id=\"T_8b72c278_1a06_11ea_8fdf_380025f3998frow4_col2\" class=\"data row4 col2\" >$8.16</td>\n",
       "            </tr>\n",
       "    </tbody></table>"
      ],
      "text/plain": [
       "<pandas.io.formats.style.Styler at 0x1e44b321a48>"
      ]
     },
     "execution_count": 18,
     "metadata": {},
     "output_type": "execute_result"
    }
   ],
   "source": [
    "most_popular_items_df = pd.DataFrame({'Purchase Count': purchase_count_by_item,\n",
    "                                      'Item Price': item_price,\n",
    "                                      'Total Purchase Value': total_purchase_value_item}) \n",
    "\n",
    "formatted_most_popular_items_df = most_popular_items_df.sort_values('Purchase Count', ascending=False).head()\n",
    "\n",
    "formatted_most_popular_items_df = formatted_most_popular_items_df.style.format({'Item Price': \"${:,.2f}\".format, \n",
    "                                                                                'Total Purchase Value': \"${:,.2f}\".format\n",
    "                                                                                })\n",
    "\n",
    "formatted_most_popular_items_df"
   ]
  },
  {
   "cell_type": "markdown",
   "metadata": {},
   "source": [
    "## Most Profitable Items"
   ]
  },
  {
   "cell_type": "markdown",
   "metadata": {},
   "source": [
    "* Sort the above table by total purchase value in descending order\n",
    "\n",
    "\n",
    "* Optional: give the displayed data cleaner formatting\n",
    "\n",
    "\n",
    "* Display a preview of the data frame\n",
    "\n"
   ]
  },
  {
   "cell_type": "markdown",
   "metadata": {},
   "source": [
    "##### Creating & formatting the most_profitable_items_df by sorting most_popular_items_df"
   ]
  },
  {
   "cell_type": "code",
   "execution_count": 19,
   "metadata": {},
   "outputs": [
    {
     "data": {
      "text/html": [
       "<style  type=\"text/css\" >\n",
       "</style><table id=\"T_8cc7f38a_1a06_11ea_a6e3_380025f3998f\" ><thead>    <tr>        <th class=\"blank\" ></th>        <th class=\"blank level0\" ></th>        <th class=\"col_heading level0 col0\" >Purchase Count</th>        <th class=\"col_heading level0 col1\" >Item Price</th>        <th class=\"col_heading level0 col2\" >Total Purchase Value</th>    </tr>    <tr>        <th class=\"index_name level0\" >Item ID</th>        <th class=\"index_name level1\" >Item Name</th>        <th class=\"blank\" ></th>        <th class=\"blank\" ></th>        <th class=\"blank\" ></th>    </tr></thead><tbody>\n",
       "                <tr>\n",
       "                        <th id=\"T_8cc7f38a_1a06_11ea_a6e3_380025f3998flevel0_row0\" class=\"row_heading level0 row0\" >178</th>\n",
       "                        <th id=\"T_8cc7f38a_1a06_11ea_a6e3_380025f3998flevel1_row0\" class=\"row_heading level1 row0\" >Oathbreaker, Last Hope of the Breaking Storm</th>\n",
       "                        <td id=\"T_8cc7f38a_1a06_11ea_a6e3_380025f3998frow0_col0\" class=\"data row0 col0\" >12</td>\n",
       "                        <td id=\"T_8cc7f38a_1a06_11ea_a6e3_380025f3998frow0_col1\" class=\"data row0 col1\" >$4.23</td>\n",
       "                        <td id=\"T_8cc7f38a_1a06_11ea_a6e3_380025f3998frow0_col2\" class=\"data row0 col2\" >$50.76</td>\n",
       "            </tr>\n",
       "            <tr>\n",
       "                        <th id=\"T_8cc7f38a_1a06_11ea_a6e3_380025f3998flevel0_row1\" class=\"row_heading level0 row1\" >82</th>\n",
       "                        <th id=\"T_8cc7f38a_1a06_11ea_a6e3_380025f3998flevel1_row1\" class=\"row_heading level1 row1\" >Nirvana</th>\n",
       "                        <td id=\"T_8cc7f38a_1a06_11ea_a6e3_380025f3998frow1_col0\" class=\"data row1 col0\" >9</td>\n",
       "                        <td id=\"T_8cc7f38a_1a06_11ea_a6e3_380025f3998frow1_col1\" class=\"data row1 col1\" >$4.90</td>\n",
       "                        <td id=\"T_8cc7f38a_1a06_11ea_a6e3_380025f3998frow1_col2\" class=\"data row1 col2\" >$44.10</td>\n",
       "            </tr>\n",
       "            <tr>\n",
       "                        <th id=\"T_8cc7f38a_1a06_11ea_a6e3_380025f3998flevel0_row2\" class=\"row_heading level0 row2\" >145</th>\n",
       "                        <th id=\"T_8cc7f38a_1a06_11ea_a6e3_380025f3998flevel1_row2\" class=\"row_heading level1 row2\" >Fiery Glass Crusader</th>\n",
       "                        <td id=\"T_8cc7f38a_1a06_11ea_a6e3_380025f3998frow2_col0\" class=\"data row2 col0\" >9</td>\n",
       "                        <td id=\"T_8cc7f38a_1a06_11ea_a6e3_380025f3998frow2_col1\" class=\"data row2 col1\" >$4.58</td>\n",
       "                        <td id=\"T_8cc7f38a_1a06_11ea_a6e3_380025f3998frow2_col2\" class=\"data row2 col2\" >$41.22</td>\n",
       "            </tr>\n",
       "            <tr>\n",
       "                        <th id=\"T_8cc7f38a_1a06_11ea_a6e3_380025f3998flevel0_row3\" class=\"row_heading level0 row3\" >92</th>\n",
       "                        <th id=\"T_8cc7f38a_1a06_11ea_a6e3_380025f3998flevel1_row3\" class=\"row_heading level1 row3\" >Final Critic</th>\n",
       "                        <td id=\"T_8cc7f38a_1a06_11ea_a6e3_380025f3998frow3_col0\" class=\"data row3 col0\" >8</td>\n",
       "                        <td id=\"T_8cc7f38a_1a06_11ea_a6e3_380025f3998frow3_col1\" class=\"data row3 col1\" >$4.88</td>\n",
       "                        <td id=\"T_8cc7f38a_1a06_11ea_a6e3_380025f3998frow3_col2\" class=\"data row3 col2\" >$39.04</td>\n",
       "            </tr>\n",
       "            <tr>\n",
       "                        <th id=\"T_8cc7f38a_1a06_11ea_a6e3_380025f3998flevel0_row4\" class=\"row_heading level0 row4\" >103</th>\n",
       "                        <th id=\"T_8cc7f38a_1a06_11ea_a6e3_380025f3998flevel1_row4\" class=\"row_heading level1 row4\" >Singed Scalpel</th>\n",
       "                        <td id=\"T_8cc7f38a_1a06_11ea_a6e3_380025f3998frow4_col0\" class=\"data row4 col0\" >8</td>\n",
       "                        <td id=\"T_8cc7f38a_1a06_11ea_a6e3_380025f3998frow4_col1\" class=\"data row4 col1\" >$4.35</td>\n",
       "                        <td id=\"T_8cc7f38a_1a06_11ea_a6e3_380025f3998frow4_col2\" class=\"data row4 col2\" >$34.80</td>\n",
       "            </tr>\n",
       "    </tbody></table>"
      ],
      "text/plain": [
       "<pandas.io.formats.style.Styler at 0x1e44b2a62c8>"
      ]
     },
     "execution_count": 19,
     "metadata": {},
     "output_type": "execute_result"
    }
   ],
   "source": [
    "most_profitable_items_df = most_popular_items_df.sort_values('Total Purchase Value', ascending=False).head()\n",
    "\n",
    "most_profitable_items_df = most_profitable_items_df.style.format({'Item Price': \"${:,.2f}\".format,\n",
    "                                                                  'Total Purchase Value': \"${:,.2f}\".format\n",
    "                                                                 })\n",
    "\n",
    "most_profitable_items_df"
   ]
  }
 ],
 "metadata": {
  "anaconda-cloud": {},
  "kernel_info": {
   "name": "python3"
  },
  "kernelspec": {
   "display_name": "pandas-challenge",
   "language": "python",
   "name": "pandas-challenge"
  },
  "language_info": {
   "codemirror_mode": {
    "name": "ipython",
    "version": 3
   },
   "file_extension": ".py",
   "mimetype": "text/x-python",
   "name": "python",
   "nbconvert_exporter": "python",
   "pygments_lexer": "ipython3",
   "version": "3.7.5"
  },
  "latex_envs": {
   "LaTeX_envs_menu_present": true,
   "autoclose": false,
   "autocomplete": true,
   "bibliofile": "biblio.bib",
   "cite_by": "apalike",
   "current_citInitial": 1,
   "eqLabelWithNumbers": true,
   "eqNumInitial": 1,
   "hotkeys": {
    "equation": "Ctrl-E",
    "itemize": "Ctrl-I"
   },
   "labels_anchors": false,
   "latex_user_defs": false,
   "report_style_numbering": false,
   "user_envs_cfg": false
  },
  "nteract": {
   "version": "0.2.0"
  }
 },
 "nbformat": 4,
 "nbformat_minor": 4
}
